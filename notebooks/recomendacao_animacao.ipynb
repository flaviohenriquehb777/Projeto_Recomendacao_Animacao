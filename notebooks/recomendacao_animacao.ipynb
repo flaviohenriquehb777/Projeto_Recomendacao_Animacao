{
 "cells": [
  {
   "cell_type": "code",
   "execution_count": 1,
   "id": "8c7c43d2-29ed-4a1e-ae1d-d829a3338d0e",
   "metadata": {},
   "outputs": [],
   "source": [
    "# Importações necessárias\n",
    "import numpy as np\n",
    "import tensorflow as tf\n",
    "from tensorflow.keras.models import Model\n",
    "from tensorflow.keras.layers import Input, Embedding, Flatten, Dense, Dot\n",
    "import matplotlib.pyplot as plt\n",
    "import matplotlib.animation as animation\n",
    "import os\n",
    "from pathlib import Path  "
   ]
  },
  {
   "cell_type": "markdown",
   "id": "1a477511-0a26-4fe9-a760-93d28b633b20",
   "metadata": {},
   "source": [
    "**Algumas configurações necessárias**"
   ]
  },
  {
   "cell_type": "code",
   "execution_count": 2,
   "id": "52894f03-21ee-4f4b-8d9e-657f19c62c64",
   "metadata": {},
   "outputs": [],
   "source": [
    "plt.style.use('ggplot')  \n",
    "plt.rcParams.update({\n",
    "    'font.size': 14,\n",
    "    'figure.figsize': (12, 8),  \n",
    "    'axes.titlesize': 18,\n",
    "    'axes.labelsize': 14,\n",
    "    'legend.fontsize': 12,\n",
    "})"
   ]
  },
  {
   "cell_type": "markdown",
   "id": "6e9c3ba6-6e1b-4587-b5dc-48f4459d21cc",
   "metadata": {},
   "source": [
    "**Geração de dados sintéticos**"
   ]
  },
  {
   "cell_type": "code",
   "execution_count": 3,
   "id": "d716ba60-785f-49c1-8f04-30d8e9dbaba7",
   "metadata": {},
   "outputs": [],
   "source": [
    "num_users = 100\n",
    "num_products = 50\n",
    "embedding_dim = 5\n",
    "\n",
    "# Gerar embeddings aleatórios para usuários e produtos\n",
    "user_embeddings = np.random.randn(num_users, embedding_dim)\n",
    "product_embeddings = np.random.randn(num_products, embedding_dim)\n",
    "\n",
    "# Gerar interações (notas de 1 a 5)\n",
    "np.random.seed(42)\n",
    "ratings = []\n",
    "user_ids = []\n",
    "product_ids = []\n",
    "\n",
    "for _ in range(2000):\n",
    "    user = np.random.randint(0, num_users)\n",
    "    product = np.random.randint(0, num_products)\n",
    "    # Nota baseada na similaridade dos embeddings + ruído\n",
    "    rating = np.dot(user_embeddings[user], product_embeddings[product]) + np.random.normal(0, 0.5)\n",
    "    ratings.append(np.clip(rating, 1, 5))\n",
    "    user_ids.append(user)\n",
    "    product_ids.append(product)\n",
    "\n",
    "ratings = np.array(ratings)\n",
    "user_ids = np.array(user_ids)\n",
    "product_ids = np.array(product_ids)"
   ]
  },
  {
   "cell_type": "markdown",
   "id": "8a77534c-bc45-4cf8-9be0-f0103131536c",
   "metadata": {},
   "source": [
    "**Construção do modelo de recomendação**"
   ]
  },
  {
   "cell_type": "code",
   "execution_count": 4,
   "id": "d90ea2c7-419f-4ac7-9882-92c29a18b79d",
   "metadata": {},
   "outputs": [],
   "source": [
    "input_user = Input(shape=(1,))\n",
    "input_product = Input(shape=(1,))\n",
    "\n",
    "# Camadas de embedding\n",
    "user_embedding = Embedding(num_users, embedding_dim)(input_user)\n",
    "product_embedding = Embedding(num_products, embedding_dim)(input_product)\n",
    "\n",
    "# Achatar embeddings\n",
    "user_vec = Flatten()(user_embedding)\n",
    "product_vec = Flatten()(product_embedding)\n",
    "\n",
    "# Produto ponto-a-ponto + camada densa\n",
    "prod = Dot(axes=1)([user_vec, product_vec])\n",
    "output = Dense(1, activation='linear')(prod)\n",
    "\n",
    "model = Model(inputs=[input_user, input_product], outputs=output)\n",
    "model.compile(optimizer='adam', loss='mse')"
   ]
  },
  {
   "cell_type": "markdown",
   "id": "1bb402ab-2cfe-4fc4-ad79-b47d7d17ec90",
   "metadata": {},
   "source": [
    "**Treinamento do modelo com animação**"
   ]
  },
  {
   "cell_type": "code",
   "execution_count": 5,
   "id": "55f8fb88-812c-4cbf-a58e-38b7db12522d",
   "metadata": {},
   "outputs": [],
   "source": [
    "fig, (ax1, ax2) = plt.subplots(2, 1, figsize=(12, 14), gridspec_kw={'hspace': 0.5})\n",
    "\n",
    "# Armazenar métricas para animação\n",
    "losses = []\n",
    "val_losses = []\n",
    "epochs = 15\n",
    "batch_size = 64\n",
    "\n",
    "# Função de atualização com visualização aprimorada\n",
    "def update(frame):\n",
    "    ax1.clear()\n",
    "    ax2.clear()\n",
    "    \n",
    "    # Treinar por 1 epoch\n",
    "    history = model.fit(\n",
    "        [user_ids, product_ids],\n",
    "        ratings,\n",
    "        epochs=1,\n",
    "        batch_size=batch_size,\n",
    "        verbose=0,\n",
    "        validation_split=0.2\n",
    "    )\n",
    "    \n",
    "    losses.append(history.history['loss'][0])\n",
    "    val_losses.append(history.history['val_loss'][0])\n",
    "    \n",
    "    # PLOT 1: PERDA DE TREINAMENTO E VALIDAÇÃO\n",
    "    ax1.plot(range(len(losses)), losses, 'o-', color='#1f77b4', linewidth=2, markersize=6, label='Treinamento')\n",
    "    ax1.plot(range(len(val_losses)), val_losses, 's--', color='#ff7f0e', linewidth=2, markersize=6, label='Validação')\n",
    "    ax1.set_title('Progresso do Treinamento - Perda MSE', fontsize=16, fontweight='bold')\n",
    "    ax1.set_xlabel('Épocas', fontsize=14)\n",
    "    ax1.set_ylabel('Perda (MSE)', fontsize=14)\n",
    "    ax1.legend(loc='upper right')\n",
    "    ax1.grid(True, alpha=0.3)\n",
    "    ax1.set_ylim(0, max(max(losses), max(val_losses)) * 1.1)\n",
    "    \n",
    "    # PLOT 2: PREVISÕES PARA EXEMPLOS ESPECÍFICOS\n",
    "    test_user = np.array([0, 1, 2, 3, 4])\n",
    "    test_product = np.array([0, 1, 2, 3, 4])\n",
    "    predictions = model.predict([test_user, test_product]).flatten()\n",
    "    \n",
    "    bars = ax2.bar(range(len(predictions)), predictions, color=['#2ca02c', '#d62728', '#9467bd', '#8c564b', '#e377c2'])\n",
    "    ax2.set_title('Previsões para Usuários Selecionados', fontsize=16, fontweight='bold')\n",
    "    ax2.set_xlabel('Usuário/Produto', fontsize=14)\n",
    "    ax2.set_ylabel('Nota Prevista', fontsize=14)\n",
    "    ax2.set_xticks(range(len(test_user)))\n",
    "    ax2.set_xticklabels([f'U{u}/P{p}' for u, p in zip(test_user, test_product)])\n",
    "    ax2.set_ylim(1, 5)\n",
    "    ax2.grid(axis='y', alpha=0.3)\n",
    "    \n",
    "    # Adicionar valores nas barras\n",
    "    for bar in bars:\n",
    "        height = bar.get_height()\n",
    "        ax2.text(bar.get_x() + bar.get_width()/2., height + 0.05,\n",
    "                f'{height:.2f}', ha='center', va='bottom', fontsize=12)\n",
    "    \n",
    "    # Informações adicionais\n",
    "    ax1.annotate(f'Época {frame+1}/{epochs}\\nÚltima Perda: {losses[-1]:.4f}',\n",
    "                 xy=(0.02, 0.98), xycoords='axes fraction',\n",
    "                 fontsize=12, bbox=dict(boxstyle=\"round,pad=0.3\", fc=\"white\", ec=\"gray\"),\n",
    "                 verticalalignment='top')\n",
    "\n",
    "# Criar animação\n",
    "ani = animation.FuncAnimation(fig, update, frames=epochs, interval=800, repeat=False)\n",
    "\n",
    "plt.close()"
   ]
  },
  {
   "cell_type": "markdown",
   "id": "7ac61d59-7e51-4bbe-a531-5b3ddc73e87e",
   "metadata": {},
   "source": [
    "**Salvando o modelo gerado**"
   ]
  },
  {
   "cell_type": "code",
   "execution_count": 7,
   "id": "33791d1d-9f3c-42b9-9dc4-533dec555c6d",
   "metadata": {},
   "outputs": [
    {
     "name": "stdout",
     "output_type": "stream",
     "text": [
      "\u001b[1m1/1\u001b[0m \u001b[32m━━━━━━━━━━━━━━━━━━━━\u001b[0m\u001b[37m\u001b[0m \u001b[1m0s\u001b[0m 74ms/step\n",
      "\u001b[1m1/1\u001b[0m \u001b[32m━━━━━━━━━━━━━━━━━━━━\u001b[0m\u001b[37m\u001b[0m \u001b[1m0s\u001b[0m 84ms/step\n",
      "\u001b[1m1/1\u001b[0m \u001b[32m━━━━━━━━━━━━━━━━━━━━\u001b[0m\u001b[37m\u001b[0m \u001b[1m0s\u001b[0m 68ms/step\n",
      "\u001b[1m1/1\u001b[0m \u001b[32m━━━━━━━━━━━━━━━━━━━━\u001b[0m\u001b[37m\u001b[0m \u001b[1m0s\u001b[0m 84ms/step\n",
      "\u001b[1m1/1\u001b[0m \u001b[32m━━━━━━━━━━━━━━━━━━━━\u001b[0m\u001b[37m\u001b[0m \u001b[1m0s\u001b[0m 70ms/step\n",
      "\u001b[1m1/1\u001b[0m \u001b[32m━━━━━━━━━━━━━━━━━━━━\u001b[0m\u001b[37m\u001b[0m \u001b[1m0s\u001b[0m 66ms/step\n",
      "\u001b[1m1/1\u001b[0m \u001b[32m━━━━━━━━━━━━━━━━━━━━\u001b[0m\u001b[37m\u001b[0m \u001b[1m0s\u001b[0m 63ms/step\n",
      "\u001b[1m1/1\u001b[0m \u001b[32m━━━━━━━━━━━━━━━━━━━━\u001b[0m\u001b[37m\u001b[0m \u001b[1m0s\u001b[0m 64ms/step\n",
      "\u001b[1m1/1\u001b[0m \u001b[32m━━━━━━━━━━━━━━━━━━━━\u001b[0m\u001b[37m\u001b[0m \u001b[1m0s\u001b[0m 65ms/step\n",
      "\u001b[1m1/1\u001b[0m \u001b[32m━━━━━━━━━━━━━━━━━━━━\u001b[0m\u001b[37m\u001b[0m \u001b[1m0s\u001b[0m 76ms/step\n",
      "\u001b[1m1/1\u001b[0m \u001b[32m━━━━━━━━━━━━━━━━━━━━\u001b[0m\u001b[37m\u001b[0m \u001b[1m0s\u001b[0m 72ms/step\n",
      "\u001b[1m1/1\u001b[0m \u001b[32m━━━━━━━━━━━━━━━━━━━━\u001b[0m\u001b[37m\u001b[0m \u001b[1m0s\u001b[0m 73ms/step\n",
      "\u001b[1m1/1\u001b[0m \u001b[32m━━━━━━━━━━━━━━━━━━━━\u001b[0m\u001b[37m\u001b[0m \u001b[1m0s\u001b[0m 70ms/step\n",
      "\u001b[1m1/1\u001b[0m \u001b[32m━━━━━━━━━━━━━━━━━━━━\u001b[0m\u001b[37m\u001b[0m \u001b[1m0s\u001b[0m 68ms/step\n",
      "\u001b[1m1/1\u001b[0m \u001b[32m━━━━━━━━━━━━━━━━━━━━\u001b[0m\u001b[37m\u001b[0m \u001b[1m0s\u001b[0m 63ms/step\n",
      "\u001b[1m1/1\u001b[0m \u001b[32m━━━━━━━━━━━━━━━━━━━━\u001b[0m\u001b[37m\u001b[0m \u001b[1m0s\u001b[0m 81ms/step\n",
      "Animação salva como 'C:\\Users\\flavi\\Documents\\GitHub\\Projeto_Recomendacao_Animacao\\media\\recomendacao_animacao_impactante.gif'!\n"
     ]
    }
   ],
   "source": [
    "# Definir caminho absoluto para a pasta media na raiz do projeto\n",
    "current_dir = os.getcwd()\n",
    "project_root = Path(current_dir).parent  \n",
    "\n",
    "# Definindo media_path \n",
    "media_path = project_root / 'media'\n",
    "\n",
    "# Criar pasta media se não existir\n",
    "media_path.mkdir(exist_ok=True)\n",
    "\n",
    "# Salvar animação\n",
    "gif_path = media_path / 'recomendacao_animacao_impactante.gif'\n",
    "ani.save(gif_path, writer='pillow', fps=2)\n",
    "\n",
    "plt.close()\n",
    "print(f\"Animação salva como '{gif_path}'!\")"
   ]
  }
 ],
 "metadata": {
  "kernelspec": {
   "display_name": "Python 3.11 (TensorFlow)",
   "language": "python",
   "name": "meu_env_python3.11"
  },
  "language_info": {
   "codemirror_mode": {
    "name": "ipython",
    "version": 3
   },
   "file_extension": ".py",
   "mimetype": "text/x-python",
   "name": "python",
   "nbconvert_exporter": "python",
   "pygments_lexer": "ipython3",
   "version": "3.11.11"
  }
 },
 "nbformat": 4,
 "nbformat_minor": 5
}
